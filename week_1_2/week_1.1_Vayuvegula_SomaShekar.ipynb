{
 "cells": [
  {
   "cell_type": "markdown",
   "id": "39e01582",
   "metadata": {},
   "source": [
    "# Create a Jupyter notebook where you create a list, iterate over the list and sort your results, generate random numbers, add to the list, and then print your results."
   ]
  },
  {
   "cell_type": "code",
   "execution_count": 4,
   "id": "ffbb64d3",
   "metadata": {},
   "outputs": [],
   "source": [
    "#create list\n",
    "my_list = [1,2,6,8,9,4,10,51,67,89]"
   ]
  },
  {
   "cell_type": "code",
   "execution_count": 5,
   "id": "90288f20",
   "metadata": {},
   "outputs": [
    {
     "name": "stdout",
     "output_type": "stream",
     "text": [
      "1\n",
      "2\n",
      "6\n",
      "8\n",
      "9\n",
      "4\n",
      "10\n",
      "51\n",
      "67\n",
      "89\n"
     ]
    }
   ],
   "source": [
    "#iterate over the list\n",
    "for i in my_list:\n",
    "    print(i)"
   ]
  },
  {
   "cell_type": "code",
   "execution_count": 7,
   "id": "b9280489",
   "metadata": {},
   "outputs": [
    {
     "name": "stdout",
     "output_type": "stream",
     "text": [
      "[1, 2, 4, 6, 8, 9, 10, 51, 67, 89]\n"
     ]
    }
   ],
   "source": [
    "#sort your results\n",
    "my_list.sort()\n",
    "print(my_list)"
   ]
  },
  {
   "cell_type": "code",
   "execution_count": 8,
   "id": "68f65dd1",
   "metadata": {},
   "outputs": [
    {
     "name": "stdout",
     "output_type": "stream",
     "text": [
      "1\n",
      "2\n",
      "4\n",
      "6\n",
      "8\n",
      "9\n",
      "10\n",
      "51\n",
      "67\n",
      "89\n"
     ]
    }
   ],
   "source": [
    "#iterate over the sorted list\n",
    "for i in my_list:\n",
    "    print(i)"
   ]
  },
  {
   "cell_type": "code",
   "execution_count": 11,
   "id": "7c1b37de",
   "metadata": {},
   "outputs": [],
   "source": [
    "#generate random numbers\n",
    "import random"
   ]
  },
  {
   "cell_type": "code",
   "execution_count": 13,
   "id": "e822b608",
   "metadata": {},
   "outputs": [],
   "source": [
    "# creating random list and adding random numbers\n",
    "random_list=[]\n",
    "for i in range(15):\n",
    "    random_list.append(random.randrange(1,1000))"
   ]
  },
  {
   "cell_type": "code",
   "execution_count": 14,
   "id": "b1feaebe",
   "metadata": {},
   "outputs": [
    {
     "data": {
      "text/plain": [
       "[825, 48, 444, 369, 855, 103, 588, 455, 334, 176, 443, 308, 421, 466, 642]"
      ]
     },
     "execution_count": 14,
     "metadata": {},
     "output_type": "execute_result"
    }
   ],
   "source": [
    "random_list"
   ]
  },
  {
   "cell_type": "code",
   "execution_count": 15,
   "id": "3109a728",
   "metadata": {},
   "outputs": [],
   "source": [
    "# adding random number list to my list\n",
    "my_list=my_list+random_list"
   ]
  },
  {
   "cell_type": "code",
   "execution_count": 16,
   "id": "4777ee89",
   "metadata": {},
   "outputs": [
    {
     "data": {
      "text/plain": [
       "[1,\n",
       " 2,\n",
       " 4,\n",
       " 6,\n",
       " 8,\n",
       " 9,\n",
       " 10,\n",
       " 51,\n",
       " 67,\n",
       " 89,\n",
       " 825,\n",
       " 48,\n",
       " 444,\n",
       " 369,\n",
       " 855,\n",
       " 103,\n",
       " 588,\n",
       " 455,\n",
       " 334,\n",
       " 176,\n",
       " 443,\n",
       " 308,\n",
       " 421,\n",
       " 466,\n",
       " 642]"
      ]
     },
     "execution_count": 16,
     "metadata": {},
     "output_type": "execute_result"
    }
   ],
   "source": [
    "#printing result\n",
    "my_list"
   ]
  },
  {
   "cell_type": "code",
   "execution_count": 17,
   "id": "cb98f865",
   "metadata": {},
   "outputs": [
    {
     "name": "stdout",
     "output_type": "stream",
     "text": [
      "1\n",
      "2\n",
      "4\n",
      "6\n",
      "8\n",
      "9\n",
      "10\n",
      "51\n",
      "67\n",
      "89\n",
      "825\n",
      "48\n",
      "444\n",
      "369\n",
      "855\n",
      "103\n",
      "588\n",
      "455\n",
      "334\n",
      "176\n",
      "443\n",
      "308\n",
      "421\n",
      "466\n",
      "642\n"
     ]
    }
   ],
   "source": [
    "# printing the results by iteration\n",
    "for i in my_list:\n",
    "    print(i)"
   ]
  },
  {
   "cell_type": "code",
   "execution_count": null,
   "id": "81bb611e",
   "metadata": {},
   "outputs": [],
   "source": []
  }
 ],
 "metadata": {
  "kernelspec": {
   "display_name": "Python 3 (ipykernel)",
   "language": "python",
   "name": "python3"
  },
  "language_info": {
   "codemirror_mode": {
    "name": "ipython",
    "version": 3
   },
   "file_extension": ".py",
   "mimetype": "text/x-python",
   "name": "python",
   "nbconvert_exporter": "python",
   "pygments_lexer": "ipython3",
   "version": "3.9.12"
  }
 },
 "nbformat": 4,
 "nbformat_minor": 5
}
