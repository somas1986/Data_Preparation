{
 "cells": [
  {
   "cell_type": "markdown",
   "id": "74746301",
   "metadata": {},
   "source": [
    "# ACTIVITY 11: RETRIEVING DATA CORRECTLY FROM DATABASES"
   ]
  },
  {
   "cell_type": "code",
   "execution_count": 13,
   "id": "e1796d76",
   "metadata": {},
   "outputs": [],
   "source": [
    "#Import libraries\n",
    "import sqlite3"
   ]
  },
  {
   "cell_type": "markdown",
   "id": "428059b7",
   "metadata": {},
   "source": [
    "## Connect to petsDB and check whether the connection has been successful"
   ]
  },
  {
   "cell_type": "code",
   "execution_count": 14,
   "id": "cc333c3d",
   "metadata": {},
   "outputs": [],
   "source": [
    "conn = sqlite3.connect(\"petsdb\")"
   ]
  },
  {
   "cell_type": "code",
   "execution_count": 15,
   "id": "f40ec252",
   "metadata": {},
   "outputs": [
    {
     "name": "stdout",
     "output_type": "stream",
     "text": [
      "True\n"
     ]
    }
   ],
   "source": [
    "# function to make sure the connection is successful\n",
    "\n",
    "def is_opened(conn):\n",
    "    try:\n",
    "        conn.execute('SELECT * FROM persons LIMIT 1')\n",
    "        return True\n",
    "    except:\n",
    "        print('Connection closed')\n",
    "        return False\n",
    "\n",
    "print(is_opened(conn))"
   ]
  },
  {
   "cell_type": "code",
   "execution_count": 17,
   "id": "c2e7c933",
   "metadata": {},
   "outputs": [],
   "source": [
    "conn.close()"
   ]
  },
  {
   "cell_type": "code",
   "execution_count": 18,
   "id": "65e422e9",
   "metadata": {},
   "outputs": [
    {
     "name": "stdout",
     "output_type": "stream",
     "text": [
      "Connection closed\n",
      "False\n"
     ]
    }
   ],
   "source": [
    "print(is_opened(conn))"
   ]
  },
  {
   "cell_type": "markdown",
   "id": "1fcdceff",
   "metadata": {},
   "source": [
    "## Find the different age groups in the persons database"
   ]
  },
  {
   "cell_type": "code",
   "execution_count": 24,
   "id": "db313814",
   "metadata": {},
   "outputs": [
    {
     "name": "stdout",
     "output_type": "stream",
     "text": [
      "(0, 'id', 'INTEGER', 0, None, 0)\n",
      "(1, 'first_name', 'TEXT', 0, None, 0)\n",
      "(2, 'last_name', 'TEXT', 0, None, 0)\n",
      "(3, 'age', 'INTEGER', 0, None, 0)\n",
      "(4, 'city', 'TEXT', 0, None, 0)\n",
      "(5, 'zip_code', 'INTEGER', 0, None, 0)\n"
     ]
    }
   ],
   "source": [
    "with sqlite3.connect('petsdb') as conn:\n",
    "    cursor = conn.cursor()\n",
    "    rows= cursor.execute(\"PRAGMA table_info([persons])\")\n",
    "    for row in rows:\n",
    "        print(row)"
   ]
  },
  {
   "cell_type": "code",
   "execution_count": 43,
   "id": "27603863",
   "metadata": {},
   "outputs": [
    {
     "name": "stdout",
     "output_type": "stream",
     "text": [
      "(1, 'Erica', None, 22, 'south port', 2345678)\n",
      "(2, 'Jordi', None, 73, 'east port', 123456)\n",
      "(3, 'Chasity', None, 70, 'new port', 76856785)\n",
      "(4, 'Gregg', None, 31, 'new port', 76856785)\n",
      "(5, 'Tony', 'Lindgren', 7, 'west port', 2345678)\n",
      "(6, 'Cary', None, 73, 'new port', 76856785)\n",
      "(7, 'Gabe', 'Thompson', 54, 'new port', 9756543)\n",
      "(8, 'Francisca', None, 14, 'west port', 123456)\n",
      "(9, 'Katelyn', 'Torphy', 49, 'east port', 9756543)\n",
      "(10, 'Raleigh', None, 68, 'new port', 2345678)\n"
     ]
    }
   ],
   "source": [
    "with sqlite3.connect('petsdb') as conn:\n",
    "    cursor = conn.cursor()\n",
    "    rows= cursor.execute(\"SELECT * FROM persons LIMIT 10\")\n",
    "    for row in rows:\n",
    "        print(row)"
   ]
  },
  {
   "cell_type": "code",
   "execution_count": 29,
   "id": "fe5a3083",
   "metadata": {},
   "outputs": [
    {
     "name": "stdout",
     "output_type": "stream",
     "text": [
      "There are 2 people aged 5\n",
      "There are 1 people aged 6\n",
      "There are 1 people aged 7\n",
      "There are 3 people aged 8\n",
      "There are 1 people aged 9\n",
      "There are 2 people aged 11\n",
      "There are 3 people aged 12\n",
      "There are 1 people aged 13\n",
      "There are 4 people aged 14\n",
      "There are 2 people aged 16\n",
      "There are 2 people aged 17\n",
      "There are 3 people aged 18\n",
      "There are 1 people aged 19\n",
      "There are 3 people aged 22\n",
      "There are 2 people aged 23\n",
      "There are 3 people aged 24\n",
      "There are 2 people aged 25\n",
      "There are 1 people aged 27\n",
      "There are 1 people aged 30\n",
      "There are 3 people aged 31\n",
      "There are 1 people aged 32\n",
      "There are 1 people aged 33\n",
      "There are 2 people aged 34\n",
      "There are 3 people aged 35\n",
      "There are 3 people aged 36\n",
      "There are 1 people aged 37\n",
      "There are 2 people aged 39\n",
      "There are 1 people aged 40\n",
      "There are 1 people aged 42\n",
      "There are 2 people aged 44\n",
      "There are 2 people aged 48\n",
      "There are 1 people aged 49\n",
      "There are 1 people aged 50\n",
      "There are 2 people aged 51\n",
      "There are 2 people aged 52\n",
      "There are 2 people aged 53\n",
      "There are 2 people aged 54\n",
      "There are 1 people aged 58\n",
      "There are 1 people aged 59\n",
      "There are 1 people aged 60\n",
      "There are 1 people aged 61\n",
      "There are 2 people aged 62\n",
      "There are 1 people aged 63\n",
      "There are 2 people aged 65\n",
      "There are 2 people aged 66\n",
      "There are 1 people aged 67\n",
      "There are 3 people aged 68\n",
      "There are 1 people aged 69\n",
      "There are 1 people aged 70\n",
      "There are 4 people aged 71\n",
      "There are 1 people aged 72\n",
      "There are 5 people aged 73\n",
      "There are 3 people aged 74\n"
     ]
    }
   ],
   "source": [
    "with sqlite3.connect('petsdb') as conn:\n",
    "    cursor = conn.cursor()\n",
    "    rows= cursor.execute(\"select age,count(*) from persons GROUP BY age\")\n",
    "    for row in rows:\n",
    "        print('There are {} people aged {}'.format(row[1], row[0]))"
   ]
  },
  {
   "cell_type": "markdown",
   "id": "d4c65835",
   "metadata": {},
   "source": [
    "## Find the age group that has maximum number of people"
   ]
  },
  {
   "cell_type": "code",
   "execution_count": 36,
   "id": "79b7267f",
   "metadata": {},
   "outputs": [
    {
     "name": "stdout",
     "output_type": "stream",
     "text": [
      "Highest number of people fall under 73 age group and there are 5 people\n"
     ]
    }
   ],
   "source": [
    "for ppl, age in cursor.execute('SELECT count(*), age FROM persons GROUP BY age ORDER BY count(*) DESC'):\n",
    "    print('Highest number of people fall under {} age group and there are {} people'.format(age, ppl))\n",
    "    break"
   ]
  },
  {
   "cell_type": "markdown",
   "id": "7214403f",
   "metadata": {},
   "source": [
    "## Find people who do not have a last name"
   ]
  },
  {
   "cell_type": "code",
   "execution_count": 42,
   "id": "529c61fb",
   "metadata": {},
   "outputs": [
    {
     "name": "stdout",
     "output_type": "stream",
     "text": [
      "People with id 1 and first_name Erica has no last_name\n",
      "People with id 2 and first_name Jordi has no last_name\n",
      "People with id 3 and first_name Chasity has no last_name\n",
      "People with id 4 and first_name Gregg has no last_name\n",
      "People with id 6 and first_name Cary has no last_name\n",
      "People with id 8 and first_name Francisca has no last_name\n",
      "People with id 10 and first_name Raleigh has no last_name\n",
      "People with id 11 and first_name Maria has no last_name\n",
      "People with id 12 and first_name Mariane has no last_name\n",
      "People with id 13 and first_name Mona has no last_name\n",
      "People with id 14 and first_name Kayla has no last_name\n",
      "People with id 15 and first_name Karlie has no last_name\n",
      "People with id 16 and first_name Morris has no last_name\n",
      "People with id 17 and first_name Sandy has no last_name\n",
      "People with id 18 and first_name Hector has no last_name\n",
      "People with id 19 and first_name Hiram has no last_name\n",
      "People with id 20 and first_name Tressa has no last_name\n",
      "People with id 21 and first_name Berry has no last_name\n",
      "People with id 22 and first_name Pearline has no last_name\n",
      "People with id 23 and first_name Maynard has no last_name\n",
      "People with id 24 and first_name Dorian has no last_name\n",
      "People with id 25 and first_name Mylene has no last_name\n",
      "People with id 26 and first_name Lafayette has no last_name\n",
      "People with id 29 and first_name Tara has no last_name\n",
      "People with id 30 and first_name Destiny has no last_name\n",
      "People with id 31 and first_name Lesly has no last_name\n",
      "People with id 32 and first_name Perry has no last_name\n",
      "People with id 35 and first_name Maritza has no last_name\n",
      "People with id 37 and first_name Grant has no last_name\n",
      "People with id 39 and first_name Laury has no last_name\n",
      "People with id 40 and first_name Name has no last_name\n",
      "People with id 41 and first_name Estefania has no last_name\n",
      "People with id 42 and first_name Destiney has no last_name\n",
      "People with id 43 and first_name Jaquelin has no last_name\n",
      "People with id 45 and first_name Alfonzo has no last_name\n",
      "People with id 46 and first_name Lisandro has no last_name\n",
      "People with id 49 and first_name Priscilla has no last_name\n",
      "People with id 50 and first_name Elenora has no last_name\n",
      "People with id 52 and first_name Rudolph has no last_name\n",
      "People with id 56 and first_name Ona has no last_name\n",
      "People with id 57 and first_name Rebeca has no last_name\n",
      "People with id 59 and first_name Sigurd has no last_name\n",
      "People with id 63 and first_name Alice has no last_name\n",
      "People with id 64 and first_name Dane has no last_name\n",
      "People with id 65 and first_name Judge has no last_name\n",
      "People with id 66 and first_name Allene has no last_name\n",
      "People with id 67 and first_name Jalen has no last_name\n",
      "People with id 70 and first_name Myron has no last_name\n",
      "People with id 73 and first_name Travon has no last_name\n",
      "People with id 74 and first_name Shayna has no last_name\n",
      "People with id 75 and first_name Myah has no last_name\n",
      "People with id 82 and first_name Letha has no last_name\n",
      "People with id 84 and first_name Felton has no last_name\n",
      "People with id 85 and first_name London has no last_name\n",
      "People with id 86 and first_name Koby has no last_name\n",
      "People with id 87 and first_name Golden has no last_name\n",
      "People with id 89 and first_name Anissa has no last_name\n",
      "People with id 91 and first_name Sid has no last_name\n",
      "People with id 96 and first_name Ernesto has no last_name\n",
      "People with id 97 and first_name Josianne has no last_name\n"
     ]
    }
   ],
   "source": [
    "rows =  cursor.execute('SELECT id,first_name FROM persons WHERE last_name is null')\n",
    "for row in rows:\n",
    "    print('People with id {} and first_name {} has no last_name'.format(row[0],row[1]))"
   ]
  },
  {
   "cell_type": "code",
   "execution_count": 54,
   "id": "7a6c36c0",
   "metadata": {},
   "outputs": [
    {
     "name": "stdout",
     "output_type": "stream",
     "text": [
      "60 people have no last_name\n"
     ]
    }
   ],
   "source": [
    "rows =  cursor.execute('SELECT count(*) FROM persons WHERE last_name is null')\n",
    "for row in rows:\n",
    "    print('{} people have no last_name'.format(row[0]))"
   ]
  },
  {
   "cell_type": "markdown",
   "id": "5950878e",
   "metadata": {},
   "source": [
    "## Find out people who have more than one pet"
   ]
  },
  {
   "cell_type": "code",
   "execution_count": 44,
   "id": "2388dd0e",
   "metadata": {},
   "outputs": [
    {
     "name": "stdout",
     "output_type": "stream",
     "text": [
      "(0, 'owner_id', 'INTEGER', 0, None, 0)\n",
      "(1, 'pet_name', 'TEXT', 0, None, 0)\n",
      "(2, 'pet_type', 'REAL', 0, None, 0)\n",
      "(3, 'treatment_done', 'INTEGER', 0, None, 0)\n"
     ]
    }
   ],
   "source": [
    "with sqlite3.connect('petsdb') as conn:\n",
    "    cursor = conn.cursor()\n",
    "    rows= cursor.execute(\"PRAGMA table_info([pets])\")\n",
    "    for row in rows:\n",
    "        print(row)"
   ]
  },
  {
   "cell_type": "code",
   "execution_count": 45,
   "id": "f8ca0fdf",
   "metadata": {},
   "outputs": [
    {
     "name": "stdout",
     "output_type": "stream",
     "text": [
      "(57, 'mani', 1.0, 0)\n",
      "(80, 'tamari', None, 0)\n",
      "(25, 'raba', None, 0)\n",
      "(27, 'olga', None, 0)\n",
      "(60, 'raba', None, 0)\n",
      "(37, 'dara', 1.0, 0)\n",
      "(33, 'chegal', 1.0, 0)\n",
      "(16, 'dara', None, 0)\n",
      "(100, 'chegal', None, 0)\n",
      "(46, 'raba', None, 1)\n"
     ]
    }
   ],
   "source": [
    "with sqlite3.connect('petsdb') as conn:\n",
    "    cursor = conn.cursor()\n",
    "    rows= cursor.execute(\"SELECT * FROM pets LIMIT 10\")\n",
    "    for row in rows:\n",
    "        print(row)"
   ]
  },
  {
   "cell_type": "code",
   "execution_count": 48,
   "id": "93780a2d",
   "metadata": {},
   "outputs": [
    {
     "name": "stdout",
     "output_type": "stream",
     "text": [
      "43 People has more than one pets\n"
     ]
    }
   ],
   "source": [
    "rows = cursor.execute('SELECT count(*) FROM (SELECT count(owner_id) FROM pets GROUP BY owner_id HAVING count(owner_id) >1)')\n",
    "for row in rows:\n",
    "    print('{} People has more than one pets'.format(row[0]))"
   ]
  },
  {
   "cell_type": "markdown",
   "id": "634bbeb6",
   "metadata": {},
   "source": [
    "## Find out how many pets have received treatment"
   ]
  },
  {
   "cell_type": "code",
   "execution_count": 46,
   "id": "684eeddc",
   "metadata": {},
   "outputs": [
    {
     "name": "stdout",
     "output_type": "stream",
     "text": [
      "36 pets received treatment\n"
     ]
    }
   ],
   "source": [
    "with sqlite3.connect('petsdb') as conn:\n",
    "    cursor = conn.cursor()\n",
    "    rows= cursor.execute(\"select count(*) from pets where treatment_done = 1\")\n",
    "    for row in rows:\n",
    "        print('{} pets received treatment'.format(row[0]))"
   ]
  },
  {
   "cell_type": "markdown",
   "id": "c54354e9",
   "metadata": {},
   "source": [
    "## Find out how many pets have received treatment and the type of pet is known"
   ]
  },
  {
   "cell_type": "code",
   "execution_count": 50,
   "id": "549d0416",
   "metadata": {},
   "outputs": [
    {
     "name": "stdout",
     "output_type": "stream",
     "text": [
      " There are 16 pets which received treatment and the type of pet is known\n"
     ]
    }
   ],
   "source": [
    "with sqlite3.connect('petsdb') as conn:\n",
    "    cursor = conn.cursor()\n",
    "    rows= cursor.execute(\"select count(*) from pets where treatment_done = 1 AND pet_type IS NOT NULL\")\n",
    "    for row in rows:\n",
    "        print(' There are {} pets which received treatment and the type of pet is known'.format(row[0]))"
   ]
  },
  {
   "cell_type": "markdown",
   "id": "39161df4",
   "metadata": {},
   "source": [
    "## Find out how many pets are from the city called east port"
   ]
  },
  {
   "cell_type": "code",
   "execution_count": 51,
   "id": "05402622",
   "metadata": {},
   "outputs": [
    {
     "name": "stdout",
     "output_type": "stream",
     "text": [
      " 49 pets are from the city East Port\n"
     ]
    }
   ],
   "source": [
    "rows = cursor.execute('SELECT count(*) FROM pets JOIN persons ON pets.owner_id = persons.id WHERE persons.city=\"east port\"')\n",
    "for row in rows:\n",
    "    print(' {} pets are from the city East Port'.format(row[0]))"
   ]
  },
  {
   "cell_type": "markdown",
   "id": "18f681bc",
   "metadata": {},
   "source": [
    "## Find out how many pets are from the city called east port and who received a treatment"
   ]
  },
  {
   "cell_type": "code",
   "execution_count": 53,
   "id": "8bd8cd07",
   "metadata": {},
   "outputs": [
    {
     "name": "stdout",
     "output_type": "stream",
     "text": [
      " 11 pets are from the city East Port and received treatment\n"
     ]
    }
   ],
   "source": [
    "rows = cursor.execute('SELECT count(*) FROM pets JOIN persons ON pets.owner_id = persons.id WHERE persons.city=\"east port\" AND pets.treatment_done = 1')\n",
    "for row in rows:\n",
    "    print(' {} pets are from the city East Port and received treatment'.format(row[0]))"
   ]
  },
  {
   "cell_type": "code",
   "execution_count": null,
   "id": "91d2b104",
   "metadata": {},
   "outputs": [],
   "source": []
  }
 ],
 "metadata": {
  "kernelspec": {
   "display_name": "Python 3 (ipykernel)",
   "language": "python",
   "name": "python3"
  },
  "language_info": {
   "codemirror_mode": {
    "name": "ipython",
    "version": 3
   },
   "file_extension": ".py",
   "mimetype": "text/x-python",
   "name": "python",
   "nbconvert_exporter": "python",
   "pygments_lexer": "ipython3",
   "version": "3.9.12"
  }
 },
 "nbformat": 4,
 "nbformat_minor": 5
}
