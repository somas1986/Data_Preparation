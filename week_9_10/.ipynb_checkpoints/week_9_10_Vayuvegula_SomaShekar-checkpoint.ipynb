{
 "cells": [
  {
   "cell_type": "markdown",
   "id": "552a9a0b",
   "metadata": {},
   "source": [
    "# Data Wrangling with Python: Activity 9, page 294"
   ]
  },
  {
   "cell_type": "markdown",
   "id": "38b14125",
   "metadata": {},
   "source": [
    "### Step 1: Import the necessary libraries, including regex and beautifulsoup:"
   ]
  },
  {
   "cell_type": "code",
   "execution_count": 39,
   "id": "6fede085",
   "metadata": {},
   "outputs": [],
   "source": [
    "import urllib.request, urllib.parse, urllib.error\n",
    "\n",
    "import requests\n",
    "\n",
    "from bs4 import BeautifulSoup\n",
    "\n",
    "import ssl\n",
    "\n",
    "import re"
   ]
  },
  {
   "cell_type": "markdown",
   "id": "d1fd8302",
   "metadata": {},
   "source": [
    "### Step 2: Check the SSL certificate:"
   ]
  },
  {
   "cell_type": "code",
   "execution_count": 40,
   "id": "9e181cbe",
   "metadata": {},
   "outputs": [],
   "source": [
    "ctx = ssl.create_default_context()\n",
    "\n",
    "ctx.check_hostname = False\n",
    "\n",
    "ctx.verify_mode = ssl.CERT_NONE"
   ]
  },
  {
   "cell_type": "markdown",
   "id": "42e12c4e",
   "metadata": {},
   "source": [
    "### Step 3: Read the HTML from the URL:"
   ]
  },
  {
   "cell_type": "code",
   "execution_count": 41,
   "id": "e2c2f351",
   "metadata": {},
   "outputs": [],
   "source": [
    "# Read the HTML from the URL and pass on to BeautifulSoup\n",
    "\n",
    "top100url = 'https://www.gutenberg.org/browse/scores/top'\n",
    "\n",
    "response = requests.get(top100url)"
   ]
  },
  {
   "cell_type": "markdown",
   "id": "d423ddc6",
   "metadata": {},
   "source": [
    "### Step 4: Write a small function to check the status of the web request."
   ]
  },
  {
   "cell_type": "code",
   "execution_count": 282,
   "id": "a34a9e6e",
   "metadata": {},
   "outputs": [],
   "source": [
    "def status_check(r):\n",
    "    if r.status_code==200:\n",
    "        print(\"Success!\")\n",
    "        return 1\n",
    "    else:\n",
    "        print(\"Failed!\")\n",
    "        return 0"
   ]
  },
  {
   "cell_type": "code",
   "execution_count": 283,
   "id": "77ee4b4b",
   "metadata": {},
   "outputs": [
    {
     "name": "stdout",
     "output_type": "stream",
     "text": [
      "Success!\n"
     ]
    },
    {
     "data": {
      "text/plain": [
       "1"
      ]
     },
     "execution_count": 283,
     "metadata": {},
     "output_type": "execute_result"
    }
   ],
   "source": [
    "status_check(response)"
   ]
  },
  {
   "cell_type": "markdown",
   "id": "43c29e59",
   "metadata": {},
   "source": [
    "### Step 5: Decode the response and pass this on to BeautifulSoup for HTML parsing."
   ]
  },
  {
   "cell_type": "code",
   "execution_count": 288,
   "id": "31883331",
   "metadata": {},
   "outputs": [],
   "source": [
    "contents = response.content.decode(response.encoding)"
   ]
  },
  {
   "cell_type": "code",
   "execution_count": 289,
   "id": "17fc25cc",
   "metadata": {},
   "outputs": [],
   "source": [
    "soup = BeautifulSoup(contents, 'html.parser')"
   ]
  },
  {
   "cell_type": "markdown",
   "id": "0d275b1c",
   "metadata": {},
   "source": [
    "### Step 6: Find all the href tags and store them in the list of links. Check what the list looks like – print the first 30 elements."
   ]
  },
  {
   "cell_type": "code",
   "execution_count": 290,
   "id": "9f952dab",
   "metadata": {},
   "outputs": [],
   "source": [
    "#Empty list\n",
    "href_list= []\n",
    "\n",
    "#Find all href tags\n",
    "for link in soup.find_all('a'):\n",
    "    href_list.append(link.get('href'))"
   ]
  },
  {
   "cell_type": "code",
   "execution_count": 294,
   "id": "774427a6",
   "metadata": {},
   "outputs": [
    {
     "data": {
      "text/plain": [
       "['/',\n",
       " '/about/',\n",
       " '/about/',\n",
       " '/policy/collection_development.html',\n",
       " '/about/contact_information.html',\n",
       " '/about/background/',\n",
       " '/policy/permission.html',\n",
       " '/policy/privacy_policy.html',\n",
       " '/policy/terms_of_use.html',\n",
       " '/ebooks/',\n",
       " '/ebooks/',\n",
       " '/ebooks/bookshelf/',\n",
       " '/browse/scores/top',\n",
       " '/ebooks/offline_catalogs.html',\n",
       " '/help/',\n",
       " '/help/',\n",
       " '/help/copyright.html',\n",
       " '/help/errata.html',\n",
       " '/help/file_formats.html',\n",
       " '/help/faq.html',\n",
       " '/policy/',\n",
       " '/help/public_domain_ebook_submission.html',\n",
       " '/help/submitting_your_own_work.html',\n",
       " '/help/mobile.html',\n",
       " '/attic/',\n",
       " '/donate/',\n",
       " '/donate/',\n",
       " '#books-last1',\n",
       " '#authors-last1',\n",
       " '#books-last7']"
      ]
     },
     "execution_count": 294,
     "metadata": {},
     "output_type": "execute_result"
    }
   ],
   "source": [
    "href_list[:30]"
   ]
  },
  {
   "cell_type": "markdown",
   "id": "299b1916",
   "metadata": {},
   "source": [
    "### Step 7: Use a regular expression to find the numeric digits in these links. These are the file numbers for the top 100 eBooks."
   ]
  },
  {
   "cell_type": "code",
   "execution_count": 52,
   "id": "2749515c",
   "metadata": {},
   "outputs": [],
   "source": [
    "number_list = []\n",
    "\n",
    "for list in href_list:\n",
    "    number = re.findall('[0-9]+', list)\n",
    "    if number:\n",
    "        number_list.append(number)"
   ]
  },
  {
   "cell_type": "code",
   "execution_count": 53,
   "id": "af935111",
   "metadata": {},
   "outputs": [
    {
     "data": {
      "text/plain": [
       "[['1'],\n",
       " ['1'],\n",
       " ['7'],\n",
       " ['7'],\n",
       " ['30'],\n",
       " ['30'],\n",
       " ['1'],\n",
       " ['1'],\n",
       " ['7'],\n",
       " ['7'],\n",
       " ['30'],\n",
       " ['30'],\n",
       " ['1'],\n",
       " ['1'],\n",
       " ['7'],\n",
       " ['7'],\n",
       " ['30'],\n",
       " ['30'],\n",
       " ['2641'],\n",
       " ['145'],\n",
       " ['37106'],\n",
       " ['16389'],\n",
       " ['67979'],\n",
       " ['100'],\n",
       " ['2701'],\n",
       " ['6761'],\n",
       " ['394'],\n",
       " ['2160'],\n",
       " ['4085'],\n",
       " ['6593'],\n",
       " ['5197'],\n",
       " ['1259'],\n",
       " ['84'],\n",
       " ['1342'],\n",
       " ['41'],\n",
       " ['25344'],\n",
       " ['345'],\n",
       " ['1661'],\n",
       " ['11'],\n",
       " ['1952'],\n",
       " ['174'],\n",
       " ['98'],\n",
       " ['20228'],\n",
       " ['2542'],\n",
       " ['46'],\n",
       " ['43'],\n",
       " ['64317'],\n",
       " ['1080'],\n",
       " ['1400'],\n",
       " ['2591'],\n",
       " ['4300'],\n",
       " ['1260'],\n",
       " ['76'],\n",
       " ['844'],\n",
       " ['1232'],\n",
       " ['5200'],\n",
       " ['2554'],\n",
       " ['1184'],\n",
       " ['2600'],\n",
       " ['23'],\n",
       " ['408'],\n",
       " ['74'],\n",
       " ['6130'],\n",
       " ['205'],\n",
       " ['43453'],\n",
       " ['120'],\n",
       " ['158'],\n",
       " ['219'],\n",
       " ['3207'],\n",
       " ['2148'],\n",
       " ['30254'],\n",
       " ['42108'],\n",
       " ['45'],\n",
       " ['28054'],\n",
       " ['1727'],\n",
       " ['996'],\n",
       " ['768'],\n",
       " ['135'],\n",
       " ['514'],\n",
       " ['58585'],\n",
       " ['33283'],\n",
       " ['16328'],\n",
       " ['2814'],\n",
       " ['16'],\n",
       " ['786'],\n",
       " ['5740'],\n",
       " ['2852'],\n",
       " ['7370'],\n",
       " ['1497'],\n",
       " ['1399'],\n",
       " ['203'],\n",
       " ['55'],\n",
       " ['779'],\n",
       " ['236'],\n",
       " ['42324'],\n",
       " ['730'],\n",
       " ['244'],\n",
       " ['27827'],\n",
       " ['3600'],\n",
       " ['69252']]"
      ]
     },
     "execution_count": 53,
     "metadata": {},
     "output_type": "execute_result"
    }
   ],
   "source": [
    "number_list[:100]"
   ]
  },
  {
   "cell_type": "markdown",
   "id": "6fbb186f",
   "metadata": {},
   "source": [
    "# Step 8: Initialize the empty list to hold the file numbers over an appropriate range and use regex to find the numeric digits in the link href string. Use the findall method."
   ]
  },
  {
   "cell_type": "code",
   "execution_count": 295,
   "id": "4337782c",
   "metadata": {},
   "outputs": [],
   "source": [
    "#Initialize the empty list to hold the file numbers\n",
    "fileNumber_list = []"
   ]
  },
  {
   "cell_type": "code",
   "execution_count": 304,
   "id": "d1e70101",
   "metadata": {},
   "outputs": [],
   "source": [
    "list\n",
    "for i in range(19,119):\n",
    "    link=href_list[i]\n",
    "    link=link.strip()\n",
    "\n",
    "    # Regular expression to find the numeric digits in the link (href) string\n",
    "    n=re.findall('[0-9]+',link)\n",
    "    if len(n)==1:\n",
    "        # Append the filenumber casted as integer\n",
    "        fileNumber_list.append(int(n[0]))"
   ]
  },
  {
   "cell_type": "code",
   "execution_count": 305,
   "id": "23fd9bd3",
   "metadata": {},
   "outputs": [
    {
     "name": "stdout",
     "output_type": "stream",
     "text": [
      "\n",
      "The file numbers for the top 100 ebooks on Gutenberg are shown below\n",
      "----------------------------------------------------------------------\n",
      "[1, 1, 7, 7, 30, 30, 1, 1, 7, 7, 30, 30, 1, 1, 7, 7, 30, 30, 2641, 145, 37106, 16389, 67979, 100, 6761, 2701, 394, 2160, 4085, 6593, 5197, 1259, 84, 1342, 41, 345, 1661, 25344, 11, 174, 1952, 20228, 46, 98, 43, 2542, 64317, 2591, 1400, 4300, 1080, 1232, 844, 1260, 5200, 1184, 76, 2600, 2554, 69260, 6130, 4734, 408, 158, 23, 69257, 205, 30254, 74, 2148, 120, 42108, 219, 3207, 69264, 45, 28054, 69273, 135, 768, 43453, 996, 786, 58585, 33283, 1727, 69258, 2814, 27827, 48320, 1399, 5740, 1, 1, 7, 7, 30, 30, 1, 1, 7, 7, 30, 30, 1, 1, 7, 7, 30, 30, 2641, 145, 37106, 16389, 67979, 100, 6761, 2701, 394, 2160, 4085, 6593, 5197, 1259, 84, 1342, 41, 345, 1661, 25344, 11, 174, 1952, 20228, 46, 98, 43, 2542, 64317, 2591, 1400, 4300, 1080, 1232, 844, 1260, 5200, 1184, 76, 2600, 2554, 69260, 6130, 4734, 408, 158, 23, 69257, 205, 30254, 74, 2148, 120, 42108, 219, 3207, 69264, 45, 28054, 69273, 135, 768, 43453, 996, 786, 58585, 33283, 1727, 69258, 2814, 27827, 48320, 1399, 5740, 1497, 2852, 69271, 236, 514, 7370, 16, 34632, 36, 4363, 69261, 16328, 69272, 20203, 244, 779, 69254, 42324, 55, 203, 1998, 15399, 8492, 3600, 2848, 10007, 1, 1, 7, 7, 30, 30, 838, 975, 65, 90, 102, 36, 6202, 603, 9, 492, 220, 26815, 537, 1325, 37, 69, 68, 61, 53, 111, 34, 28, 35, 7, 314, 2858, 2183, 190, 30, 136, 779, 481, 2703, 31267, 31265, 705, 1039, 93, 861, 94, 326, 27, 9473, 898, 451, 132, 1896, 60, 1961, 7919, 972, 971, 42, 80, 120, 125, 420, 85, 507, 1735, 907, 1071, 113, 1355, 4589, 467, 500, 79, 505, 708, 54, 408, 563, 355, 1736, 204, 2297, 586, 226, 859, 306, 564, 9854, 2296, 59, 251, 5446, 35591, 37155, 34510, 8302, 10, 748, 33608, 25301, 9515, 206, 25911, 2447, 410, 1, 1, 7, 7, 30, 30, 2641, 145, 37106, 16389, 67979, 394, 2701, 6761, 100, 2160, 4085, 6593, 5197, 1259, 84, 1342, 25344, 20228, 345, 11, 1661, 98, 41, 1952, 174, 2542, 1080, 43, 64317, 46, 1400, 2591, 43453, 5200, 4300, 1260, 1232, 408, 2554, 76, 844, 6130, 2600, 1184, 23, 74, 16328, 219, 205, 3207, 120, 1727, 27107, 1497, 28054, 514, 55, 768, 20203, 2814, 7370, 996, 45, 30254, 42324, 58585, 135, 2852, 158, 11030, 1399, 5740, 15399, 203, 730, 16, 779, 2148, 1998, 244, 42108, 35, 3600, 27827, 10, 1250, 236, 10007, 140, 215, 36, 521, 160, 67098, 4363, 766, 33283, 829, 161, 25717, 1, 1, 7, 7, 30, 30, 838, 975, 90, 102, 36, 65, 6202, 603, 220, 26815, 492, 9, 37, 537, 1325, 68, 61, 69, 53, 2183, 111, 28, 35, 314, 7, 2858, 136, 30, 190, 2703, 31265, 31267, 779, 7919, 705, 34, 93, 1039, 326, 481, 94, 861, 27, 125, 120, 1735, 971, 972, 132, 80, 420, 2297, 113, 42, 60, 1896, 1961, 85, 507, 9473, 451, 226, 907, 2296, 5446, 4589, 1736, 505, 408, 500, 708, 54, 79, 355, 1355, 563, 204, 586, 467, 9854, 42217, 748, 37155, 4931, 564, 92, 306, 34510, 898, 25301, 251, 23, 2447, 59, 10, 33608, 1705, 410, 506, 73, 1, 1, 7, 7, 30, 30, 1, 1, 7, 7, 30, 30, 1, 1, 7, 7, 30, 30, 1, 1, 7, 7, 30, 30, 2641, 145, 37106, 16389, 67979, 100, 6761, 2701, 394, 2160, 4085, 6593, 5197, 1259, 84, 1342, 41, 345, 1661, 25344, 11, 174, 1952, 20228, 46, 98, 43, 2542, 64317, 2591, 1400, 4300, 1080, 1232, 844, 1260, 5200, 1184, 76, 2600, 2554, 69260, 6130, 4734, 408, 158, 23, 69257, 205, 30254, 74, 2148, 120, 42108, 219, 3207, 69264, 45, 28054, 69273, 135, 768, 43453, 996, 786, 58585, 33283, 1727, 69258, 2814, 27827, 48320, 1399, 5740]\n"
     ]
    }
   ],
   "source": [
    "print ('\\nThe file numbers for the top 100 ebooks on Gutenberg are shown below\\n'+'-'*70)\n",
    "\n",
    "print(fileNumber_list)"
   ]
  },
  {
   "cell_type": "markdown",
   "id": "e3027950",
   "metadata": {},
   "source": [
    "### Step 9:What does the soup object's text look like? Use the .text method and print only the first 2,000 characters (do not print the whole thing, as it is too long)"
   ]
  },
  {
   "cell_type": "code",
   "execution_count": 306,
   "id": "5008337e",
   "metadata": {},
   "outputs": [
    {
     "name": "stdout",
     "output_type": "stream",
     "text": [
      "\n",
      "\n",
      "\n",
      "\n",
      "Top 100 | Project Gutenberg\n",
      "\n",
      "\n",
      "\n",
      "\n",
      "\n",
      "\n",
      "\n",
      "\n",
      "\n",
      "\n",
      "\n",
      "\n",
      "\n",
      "\n",
      "\n",
      "\n",
      "\n",
      "\n",
      "\n",
      "\n",
      "\n",
      "\n",
      "\n",
      "\n",
      "\n",
      "\n",
      "\n",
      "Menu▾\n",
      "\n",
      "\n",
      "\n",
      "About\n",
      "          ▾\n",
      "\n",
      "▾\n",
      "\n",
      "\n",
      "About Project Gutenberg\n",
      "Collection Development\n",
      "Contact Us\n",
      "History & Philosophy\n",
      "Permissions & License\n",
      "Privacy Policy\n",
      "Terms of Use\n",
      "\n",
      "\n",
      "\n",
      "Search and Browse\n",
      "      \t  ▾\n",
      "\n",
      "▾\n",
      "\n",
      "\n",
      "Book Search\n",
      "Bookshelves\n",
      "Frequently Downloaded\n",
      "Offline Catalogs\n",
      "\n",
      "\n",
      "\n",
      "Help\n",
      "          ▾\n",
      "\n",
      "▾\n",
      "\n",
      "\n",
      "All help topics →\n",
      "Copyright Procedures\n",
      "Errata, Fixes and Bug Reports\n",
      "File Formats\n",
      "Frequently Asked Questions\n",
      "Policies →\n",
      "Public Domain eBook Submission\n",
      "Submitting Your Own Work\n",
      "Tablets, Phones and eReaders\n",
      "The Attic →\n",
      "\n",
      "\n",
      "Donate\n",
      "\n",
      "\n",
      "\n",
      "\n",
      "\n",
      "\n",
      "\n",
      "\n",
      "\n",
      "\n",
      "Donation\n",
      "\n",
      "\n",
      "\n",
      "\n",
      "\n",
      "\n",
      "\n",
      "Frequently Viewed or Downloaded\n",
      "These listings are based on the number of times each eBook gets downloaded.\n",
      "      Multiple downloads from the same Internet address on the same day count as one download, and addresses that download more than 100 eBooks in a day are considered robots and are not counted.\n",
      "\n",
      "Downloaded Books\n",
      "2022-10-31\n",
      "last 7 days731711\n",
      "last 30 days6397718\n",
      "\n",
      "\n",
      "\n",
      "Top 100 EBooks yesterday\n",
      "Top 100 Authors yesterday\n",
      "Top 100 EBooks last 7 days\n",
      "Top 100 Authors last 7 days\n",
      "Top 100 EBooks last 30 days\n",
      "Top 100 Authors last 30 days\n",
      "\n",
      "\n",
      "Top 100 EBooks yesterday\n",
      "\n",
      "\n",
      "\n",
      "\n",
      "Top 100 EBooks yesterday\n",
      "Top 100 Authors yesterday\n",
      "Top 100 EBooks last 7 days\n",
      "Top 100 Authors last 7 days\n",
      "Top 100 EBooks last 30 days\n",
      "Top 100 Authors last 30 days\n",
      "\n",
      "\n",
      "Top 100 Authors yesterday\n",
      "\n",
      "\n",
      "\n",
      "\n",
      "Top 100 EBooks yesterday\n",
      "Top 100 Authors yesterday\n",
      "Top 100 EBooks last 7 days\n",
      "Top 100 Authors last 7 days\n",
      "Top 100 EBooks last 30 days\n",
      "Top 100 Authors last 30 days\n",
      "\n",
      "\n",
      "Top 100 EBooks last 7 days\n",
      "\n",
      "A Room with a View by E. M.  Forster (18447)\n",
      "Middlemarch by George Eliot (17185)\n",
      "Little Women; Or, Meg, Jo, Beth, and Amy by Louisa May Alcott (15782)\n",
      "The Enchanted April by Elizabeth Von Arnim (15644)\n",
      "The Blue Castle: a novel by L. M.  Montgomery (15193)\n",
      "The Complete Works of William Shakespeare by William Shakespeare (14997)\n",
      "The Adventures of Ferdinand Count Fathom — Complete by T.  Smollett (14899)\n",
      "Moby Dick; Or, The Whale by Herman Melvill\n"
     ]
    }
   ],
   "source": [
    "print(soup.text[:2000])"
   ]
  },
  {
   "cell_type": "markdown",
   "id": "c5cce15a",
   "metadata": {},
   "source": [
    "### Step 10: Search in the extracted text (using a regular expression) from the soup object to find the names of the top 100 eBooks (yesterday's ranking)."
   ]
  },
  {
   "cell_type": "code",
   "execution_count": 313,
   "id": "8c5c16a6",
   "metadata": {},
   "outputs": [],
   "source": [
    "# Temp empty list of Ebook names\n",
    "titles_list_temp=[]"
   ]
  },
  {
   "cell_type": "markdown",
   "id": "d03679fd",
   "metadata": {},
   "source": [
    "### Step 11: Create a starting index. It should point at the text \"Top 100 Ebooks yesterday\". Hint: Use splitlines() method of the soup.text. It splits the lines of the text of the soup object"
   ]
  },
  {
   "cell_type": "code",
   "execution_count": 314,
   "id": "66ca5060",
   "metadata": {},
   "outputs": [],
   "source": [
    "start_idx=soup.text.splitlines().index('Top 100 EBooks yesterday')"
   ]
  },
  {
   "cell_type": "markdown",
   "id": "54259646",
   "metadata": {},
   "source": [
    "### Step 12: Loop 1-100 to add the strings of the next 100 lines to this temporary list. Hint: use the splitlines method"
   ]
  },
  {
   "cell_type": "code",
   "execution_count": 315,
   "id": "d33bc072",
   "metadata": {},
   "outputs": [],
   "source": [
    "for i in range(100):\n",
    "    titles_list_temp.append(soup.text.splitlines()[start_idx+2+i])"
   ]
  },
  {
   "cell_type": "markdown",
   "id": "bbf3c425",
   "metadata": {},
   "source": [
    "### Step 13: Use a regular expression to extract only text from the name strings and append it to an empty list. Use match and span to find the indices and use them"
   ]
  },
  {
   "cell_type": "code",
   "execution_count": 316,
   "id": "a938dbe4",
   "metadata": {},
   "outputs": [],
   "source": [
    "titles_list=[]\n",
    "\n",
    "for i in range(100):\n",
    "    id1,id2=re.match('^[a-zA-Z ]*',lst_titles_temp[i]).span()\n",
    "    titles_list.append(titles_list_temp[i][id1:id2])"
   ]
  },
  {
   "cell_type": "code",
   "execution_count": 346,
   "id": "dd00890b",
   "metadata": {},
   "outputs": [
    {
     "name": "stdout",
     "output_type": "stream",
     "text": [
      "A Room with a View by E\n",
      "Middlemarch by George Eliot \n",
      "Little Women\n",
      "The Enchanted April by Elizabeth Von Arnim \n",
      "The Blue Castle\n",
      "The Complete Works of William Shakespeare by William Shakespeare \n",
      "The Adventures of Ferdinand Count Fathom \n",
      "Moby Dick\n",
      "Cranford by Elizabeth Cleghorn Gaskell \n",
      "The Expedition of Humphry Clinker by T\n",
      "The Adventures of Roderick Random by T\n",
      "History of Tom Jones\n",
      "My Life \n",
      "Frankenstein\n",
      "Pride and Prejudice by Jane Austen \n",
      "The Legend of Sleepy Hollow by Washington Irving \n",
      "Dracula by Bram Stoker \n",
      "The Adventures of Sherlock Holmes by Arthur Conan Doyle \n",
      "The Scarlet Letter by Nathaniel Hawthorne \n",
      "Alice\n",
      "The Picture of Dorian Gray by Oscar Wilde \n",
      "The Yellow Wallpaper by Charlotte Perkins Gilman \n",
      "Noli Me Tangere by Jos\n",
      "A Christmas Carol in Prose\n",
      "A Tale of Two Cities by Charles Dickens \n",
      "The Strange Case of Dr\n",
      "A Doll\n",
      "The Great Gatsby by F\n",
      "Grimms\n",
      "Great Expectations by Charles Dickens \n",
      "A Modest Proposal by Jonathan Swift \n",
      "The Prince by Niccol\n",
      "The Importance of Being Earnest\n",
      "Jane Eyre\n",
      "Metamorphosis by Franz Kafka \n",
      "The Count of Monte Cristo\n",
      "Adventures of Huckleberry Finn by Mark Twain \n",
      "Crime and Punishment by Fyodor Dostoyevsky \n",
      "My friend the murderer\n",
      "The Iliad by Homer \n",
      "The Grim Smile of the Five Towns by Arnold Bennett \n",
      "The Souls of Black Folk by W\n",
      "Emma by Jane Austen \n",
      "Narrative of the Life of Frederick Douglass\n",
      "Time out for redheads by Miriam Allen De Ford \n",
      "The Romance of Lust\n",
      "The Adventures of Tom Sawyer\n",
      "The Works of Edgar Allan Poe \n",
      "The Slang Dictionary\n",
      "Heart of Darkness by Joseph Conrad \n",
      "Leviathan by Thomas Hobbes \n",
      "Atomic Station by Frank Belknap Long \n",
      "Anne of Green Gables by L\n",
      "The Brothers Karamazov by Fyodor Dostoyevsky \n",
      "The history of silhouettes by Emily Jackson \n",
      "Les Mis\n",
      "A Pickle for the Knowing Ones by Timothy Dexter \n",
      "Don Quixote by Miguel de Cervantes Saavedra \n",
      "Hard Times by Charles Dickens \n",
      "The Prophet by Kahlil Gibran \n"
     ]
    }
   ],
   "source": [
    "str_empty=\"\"\n",
    "str_top=\"Top\"\n",
    "for title in titles_list:\n",
    "    if(title != str_empty):\n",
    "        if (title < str_top):\n",
    "            print(title)"
   ]
  },
  {
   "cell_type": "markdown",
   "id": "d227817f",
   "metadata": {},
   "source": [
    "# Data Wrangling with Python: Activity 10, page 295"
   ]
  },
  {
   "cell_type": "markdown",
   "id": "277ac649",
   "metadata": {},
   "source": [
    "### Step 1: Import urllib.request, urllib.parse, urllib.error, and json."
   ]
  },
  {
   "cell_type": "code",
   "execution_count": 60,
   "id": "d209ad59",
   "metadata": {},
   "outputs": [],
   "source": [
    "import urllib.request, urllib.parse, urllib.error\n",
    "import json"
   ]
  },
  {
   "cell_type": "markdown",
   "id": "0faad46f",
   "metadata": {},
   "source": [
    "### Step 2: Load the secret API key (you have to get one from the OMDb website and use that; it has a daily limit of 1,000) from a JSON file stored in the same folder in a variable, by using json.loads"
   ]
  },
  {
   "cell_type": "markdown",
   "id": "067c0358",
   "metadata": {},
   "source": [
    "Received API Key"
   ]
  },
  {
   "cell_type": "markdown",
   "id": "c91d6730",
   "metadata": {},
   "source": [
    "### Step 3: Obtain a key and store it in JSON as APIkeys.json"
   ]
  },
  {
   "cell_type": "markdown",
   "id": "b7033f7c",
   "metadata": {},
   "source": [
    "Addded API key to json file and saved"
   ]
  },
  {
   "cell_type": "markdown",
   "id": "dd5cb53b",
   "metadata": {},
   "source": [
    "### Step 4: Open the APIkeys.json file"
   ]
  },
  {
   "cell_type": "code",
   "execution_count": 187,
   "id": "7b7936a3",
   "metadata": {},
   "outputs": [],
   "source": [
    "with open('APIkeys.json') as f:\n",
    "\n",
    "    keys = json.load(f)\n",
    "\n",
    "omdbapi = keys['OMDBapi']"
   ]
  },
  {
   "cell_type": "markdown",
   "id": "3bd2cd86",
   "metadata": {},
   "source": [
    "### Step 5: Assign the OMDb portal (http://www.omdbapi.com/?) as a string to a variable"
   ]
  },
  {
   "cell_type": "code",
   "execution_count": 188,
   "id": "dc5a21aa",
   "metadata": {},
   "outputs": [],
   "source": [
    "serviceurl = 'http://www.omdbapi.com/?'"
   ]
  },
  {
   "cell_type": "markdown",
   "id": "18b3eb3c",
   "metadata": {},
   "source": [
    "### Step 6: Create a variable called apikey with the last portion of the URL (&apikey=secretapikey), where secretapikey is your own API key"
   ]
  },
  {
   "cell_type": "code",
   "execution_count": 202,
   "id": "d37d0f3d",
   "metadata": {},
   "outputs": [],
   "source": [
    "apikey = '&apikey='+omdbapi"
   ]
  },
  {
   "cell_type": "markdown",
   "id": "29cd809f",
   "metadata": {},
   "source": [
    "### Step 7: Write a utility function called print_json to print the movie data from a JSON file (which we will get from the portal)"
   ]
  },
  {
   "cell_type": "code",
   "execution_count": 276,
   "id": "49fb4561",
   "metadata": {},
   "outputs": [],
   "source": [
    "def print_json(json_data):\n",
    "    list_keys=['Title', 'Year', 'Rated', 'Released', 'Runtime', 'Genre', 'Director', 'Writer', 'Actors', 'Plot', 'Language','Country', 'Awards', 'Ratings', 'Metascore', 'imdbRating', 'imdbVotes', 'imdbID']\n",
    "    print(\"-\"*50)\n",
    "    for k in list_keys:\n",
    "        if k in json_data.keys():\n",
    "            print(f\"{k}: {json_data[k]}\")\n",
    "    print(\"-\"*50)"
   ]
  },
  {
   "cell_type": "markdown",
   "id": "bfc0b5b1",
   "metadata": {},
   "source": [
    "### Step 8: Write a utility function to download a poster of the movie based on the information from the JSON dataset and save it in your local folder. Use the os module. The poster data is stored in the JSON key Poster. Use the Python command to open a file and write the poster data. Close the file after you're done. This function will save the poster data as an image file"
   ]
  },
  {
   "cell_type": "code",
   "execution_count": 277,
   "id": "2937a858",
   "metadata": {},
   "outputs": [],
   "source": [
    "def save_poster(json_data):\n",
    "    import os\n",
    "    title = json_data['Title']\n",
    "    poster_url = json_data['Poster']\n",
    "    # Splits the poster url by '.' and picks up the last string as file extension\n",
    "    poster_file_extension=poster_url.split('.')[-1]\n",
    "    # Reads the image file from web\n",
    "    poster_data = urllib.request.urlopen(poster_url).read()\n",
    "    savelocation=os.getcwd()+'\\\\'+'Posters'+'\\\\'\n",
    "    # Creates new directory if the directory does not exist. Otherwise, just use the existing path.\n",
    "    if not os.path.isdir(savelocation):\n",
    "        os.mkdir(savelocation)\n",
    "        filename=savelocation+str(title)+'.'+poster_file_extension\n",
    "        f=open(filename,'wb')\n",
    "        f.write(poster_data)\n",
    "        f.close()"
   ]
  },
  {
   "cell_type": "markdown",
   "id": "04a454f3",
   "metadata": {},
   "source": [
    "### Step 9: Write a utility function called search_movie to search for a movie by its name, print the downloaded JSON data, and save the movie poster in the local folder. Use a try-except loop for this. Use the previously created serviceurl and apikey variables. You have to pass on a dictionary with a key, t, and the movie name as the corresponding value to the urllib.parse.urlencode() function and then add the serviceurl and apikey to the output of the function to construct the full URL. This URL will be used to access the data. The JSON data has a key called Response. If it is True, that means the read was successful. Check this before processing the data. If it's not successful, then print the JSON key Error, which will contain the appropriate error message returned by the movie database"
   ]
  },
  {
   "cell_type": "code",
   "execution_count": 280,
   "id": "2d1e0a7c",
   "metadata": {},
   "outputs": [],
   "source": [
    "def search_movie(title):\n",
    "    try:\n",
    "        url = serviceurl + urllib.parse.urlencode({'t': str(title)})+apikey\n",
    "        print(f'Retrieving the data of \"{title}\" now... ')\n",
    "        print(url)\n",
    "        uh = urllib.request.urlopen(url)\n",
    "        data = uh.read()\n",
    "        json_data=json.loads(data)\n",
    "        if json_data['Response']=='True':\n",
    "            print_json(json_data)\n",
    "            # Asks user whether to download the poster of the movie\n",
    "            if json_data['Poster']!='N/A':\n",
    "                save_poster(json_data)\n",
    "        else:\n",
    "            print(\"Error encountered: \",json_data['Error'])\n",
    "    \n",
    "    except urllib.error.URLError as e:\n",
    "        print(f\"ERROR: {e.reason}\")"
   ]
  },
  {
   "cell_type": "markdown",
   "id": "cf1a6195",
   "metadata": {},
   "source": [
    "### Step 10: Test the search_movie function by entering Titanic"
   ]
  },
  {
   "cell_type": "code",
   "execution_count": 281,
   "id": "28fe23da",
   "metadata": {},
   "outputs": [
    {
     "name": "stdout",
     "output_type": "stream",
     "text": [
      "Retrieving the data of \"Titanic\" now... \n",
      "http://www.omdbapi.com/?t=Titanic&apikey=6d3bce0d\n",
      "--------------------------------------------------\n",
      "Title: Titanic\n",
      "Year: 1997\n",
      "Rated: PG-13\n",
      "Released: 19 Dec 1997\n",
      "Runtime: 194 min\n",
      "Genre: Drama, Romance\n",
      "Director: James Cameron\n",
      "Writer: James Cameron\n",
      "Actors: Leonardo DiCaprio, Kate Winslet, Billy Zane\n",
      "Plot: A seventeen-year-old aristocrat falls in love with a kind but poor artist aboard the luxurious, ill-fated R.M.S. Titanic.\n",
      "Language: English, Swedish, Italian, French\n",
      "Country: United States, Mexico\n",
      "Awards: Won 11 Oscars. 125 wins & 83 nominations total\n",
      "Ratings: [{'Source': 'Internet Movie Database', 'Value': '7.9/10'}, {'Source': 'Rotten Tomatoes', 'Value': '87%'}, {'Source': 'Metacritic', 'Value': '75/100'}]\n",
      "Metascore: 75\n",
      "imdbRating: 7.9\n",
      "imdbVotes: 1,164,233\n",
      "imdbID: tt0120338\n",
      "--------------------------------------------------\n"
     ]
    }
   ],
   "source": [
    "search_movie('Titanic')"
   ]
  },
  {
   "cell_type": "markdown",
   "id": "159bcce7",
   "metadata": {},
   "source": [
    "# Connect to the Twitter API and do a simple data pull"
   ]
  },
  {
   "cell_type": "code",
   "execution_count": 347,
   "id": "f689b232",
   "metadata": {},
   "outputs": [],
   "source": [
    "import twitter\n",
    "api = twitter.Api(consumer_key='eXFSmcNxCNZspbIbGWWuy9ASO',\n",
    "                  consumer_secret='deRBBSVPUFp5qylcfrxg4ISvzIILAB6ciGln6RlPQCG9xLH2Co',\n",
    "                  access_token_key=\"180023737-b1E1f2LccFQ9sYSN8X28It7yg9dZnXhKU0BcVabk\",\n",
    "                  access_token_secret=\"suSpy4RJWLp7Zj3FDd9QQAng10MfDKRApKOLpC0oXh99Y\")"
   ]
  },
  {
   "cell_type": "code",
   "execution_count": 348,
   "id": "bfe856af",
   "metadata": {},
   "outputs": [
    {
     "data": {
      "text/plain": [
       "[Status(ID=1588970921272172544, ScreenName=KimDotcom, Created=Sat Nov 05 19:06:03 +0000 2022, Text='🧵Thread🧵\\n\\nWhat’s the root cause of the US proxy war in Ukraine? Most people don’t have a clue. Let me explain.\\n\\nIt… https://t.co/lNctm6tUY5'),\n",
       " Status(ID=1589541079363489796, ScreenName=Gerashchenko_en, Created=Mon Nov 07 08:51:40 +0000 2022, Text='President Zelenskyy with relatives of our fallen heroes.\\n\\nHeartbreaking to think how many Ukrainians lost their lov… https://t.co/6vMYm8tjsL'),\n",
       " Status(ID=1588907972922834945, ScreenName=Gerashchenko_en, Created=Sat Nov 05 14:55:55 +0000 2022, Text='News about Ukraine are almost gone from first pages of media. War has become mundane, something to scroll over.\\n\\nBu… https://t.co/7bHQaVNBXO'),\n",
       " Status(ID=1589603209072500737, ScreenName=StanfordHood2, Created=Mon Nov 07 12:58:33 +0000 2022, Text='🥐🥖🍎🍐🍊🥫🍳🥚🍋🍌🍉🥦🍎🍍🍑🍇🍓🍅🥕🌽🍳🥚🍲🍐🍳🥚🍤🥕🌽🍌🍉🍒🍈🥑WTO cuts growth forecast to 3% as Ukraine war disrupts global trade'),\n",
       " Status(ID=1589603198159192065, ScreenName=GFMIinc, Created=Mon Nov 07 12:58:30 +0000 2022, Text=\"Ukraine war fuels US oil producers' $200B profits https://t.co/goXeU05gba\"),\n",
       " Status(ID=1589603192421363712, ScreenName=singularissimo, Created=Mon Nov 07 12:58:29 +0000 2022, Text='RT @KimDotcom: 🧵Thread🧵\\n\\nWhat’s the root cause of the US proxy war in Ukraine? Most people don’t have a clue. Let me explain.\\n\\nIt all start…'),\n",
       " Status(ID=1589603189254664192, ScreenName=OrganBots, Created=Mon Nov 07 12:58:28 +0000 2022, Text=\"RT @DefenceU: It has been more than 8 years and 8 months since the start of russia's war against Ukraine, and these companies still haven't…\"),\n",
       " Status(ID=1589603188994605056, ScreenName=IgorTesla1, Created=Mon Nov 07 12:58:28 +0000 2022, Text=\"RT @DefenceU: It has been more than 8 years and 8 months since the start of russia's war against Ukraine, and these companies still haven't…\"),\n",
       " Status(ID=1589603184150183937, ScreenName=METALlicASMAT, Created=Mon Nov 07 12:58:27 +0000 2022, Text=\"RT @DefenceU: It has been more than 8 years and 8 months since the start of russia's war against Ukraine, and these companies still haven't…\"),\n",
       " Status(ID=1589603176403308546, ScreenName=karf_dera, Created=Mon Nov 07 12:58:25 +0000 2022, Text='RT @Gerashchenko_en: President Zelenskyy with relatives of our fallen heroes.\\n\\nHeartbreaking to think how many Ukrainians lost their loved…')]"
      ]
     },
     "execution_count": 348,
     "metadata": {},
     "output_type": "execute_result"
    }
   ],
   "source": [
    "api.GetSearch(term='Ukraine war', since=2021-1-1, count=10)"
   ]
  },
  {
   "cell_type": "code",
   "execution_count": 349,
   "id": "eaf449f6",
   "metadata": {},
   "outputs": [
    {
     "data": {
      "text/plain": [
       "[Status(ID=1589459848705384452, ScreenName=AV2RY, Created=Mon Nov 07 03:28:53 +0000 2022, Text=\"@ylmXD yeah I mean Bellevue university went out today so like it's obv mickey mouse\"),\n",
       " Status(ID=1589430816379408386, ScreenName=CraigPhephles, Created=Mon Nov 07 01:33:31 +0000 2022, Text='RT @bremcmurtry08: Beyond blessed and excited to announce my commitment to Bellevue University!! So grateful for my family, coaches, and te…'),\n",
       " Status(ID=1589417443575074817, ScreenName=thewarren6, Created=Mon Nov 07 00:40:23 +0000 2022, Text='RT @bremcmurtry08: Beyond blessed and excited to announce my commitment to Bellevue University!! So grateful for my family, coaches, and te…'),\n",
       " Status(ID=1589410698484146176, ScreenName=KincaidBrooklyn, Created=Mon Nov 07 00:13:34 +0000 2022, Text='RT @bremcmurtry08: Beyond blessed and excited to announce my commitment to Bellevue University!! So grateful for my family, coaches, and te…'),\n",
       " Status(ID=1589408298784235526, ScreenName=BellevueLeader, Created=Mon Nov 07 00:04:02 +0000 2022, Text='The all-around play of Bellevue University junior outside hitter Allie Kerns led the 16th-ranked Bruins volleyball… https://t.co/VJpnOt6tue'),\n",
       " Status(ID=1589408162884747269, ScreenName=roazlen_, Created=Mon Nov 07 00:03:30 +0000 2022, Text='RT @bremcmurtry08: Beyond blessed and excited to announce my commitment to Bellevue University!! So grateful for my family, coaches, and te…'),\n",
       " Status(ID=1589314691590803457, ScreenName=OmahaPrez, Created=Sun Nov 06 17:52:05 +0000 2022, Text=\"RT @OMAStormChasers: We recently dropped off donation items, that we collected from around the ballpark, to Bellevue University's Military…\"),\n",
       " Status(ID=1589308096689672193, ScreenName=NWJS_jobs, Created=Sun Nov 06 17:25:52 +0000 2022, Text='Join the City University Of New York team! Our latest job opening https://t.co/Xo7r8YJCRE New York, NY'),\n",
       " Status(ID=1589308087562866691, ScreenName=NWJS_jobs, Created=Sun Nov 06 17:25:50 +0000 2022, Text='Join the City University Of New York team! Our latest job opening https://t.co/e4GrOG9MIM New York, NY'),\n",
       " Status(ID=1589279436410859521, ScreenName=hayden_nelson17, Created=Sun Nov 06 15:31:59 +0000 2022, Text='RT @bremcmurtry08: Beyond blessed and excited to announce my commitment to Bellevue University!! So grateful for my family, coaches, and te…')]"
      ]
     },
     "execution_count": 349,
     "metadata": {},
     "output_type": "execute_result"
    }
   ],
   "source": [
    "api.GetSearch(term='Bellevue University', since=2021-1-1, count=10)"
   ]
  },
  {
   "cell_type": "markdown",
   "id": "ec89982e",
   "metadata": {},
   "source": [
    "# Using one of the datasets provided in Weeks 7 & 8, or a dataset of your own, choose 3 of the following visualizations to complete. You must submit via PDF along with your code. You are free to use Matplotlib, Seaborn or another package if you prefer."
   ]
  },
  {
   "cell_type": "code",
   "execution_count": 88,
   "id": "05cda8a6",
   "metadata": {},
   "outputs": [],
   "source": [
    "#Import libraries\n",
    "import pandas as pd\n",
    "import matplotlib.pyplot as plt\n",
    "import seaborn as sns"
   ]
  },
  {
   "cell_type": "code",
   "execution_count": 89,
   "id": "740d2fbf",
   "metadata": {},
   "outputs": [],
   "source": [
    "# Read csv file\n",
    "df_csv = pd.read_csv(\"Boston_housing.csv\")"
   ]
  },
  {
   "cell_type": "code",
   "execution_count": 90,
   "id": "61d2ef6e",
   "metadata": {},
   "outputs": [
    {
     "data": {
      "text/html": [
       "<div>\n",
       "<style scoped>\n",
       "    .dataframe tbody tr th:only-of-type {\n",
       "        vertical-align: middle;\n",
       "    }\n",
       "\n",
       "    .dataframe tbody tr th {\n",
       "        vertical-align: top;\n",
       "    }\n",
       "\n",
       "    .dataframe thead th {\n",
       "        text-align: right;\n",
       "    }\n",
       "</style>\n",
       "<table border=\"1\" class=\"dataframe\">\n",
       "  <thead>\n",
       "    <tr style=\"text-align: right;\">\n",
       "      <th></th>\n",
       "      <th>CRIM</th>\n",
       "      <th>ZN</th>\n",
       "      <th>INDUS</th>\n",
       "      <th>CHAS</th>\n",
       "      <th>NOX</th>\n",
       "      <th>RM</th>\n",
       "      <th>AGE</th>\n",
       "      <th>DIS</th>\n",
       "      <th>RAD</th>\n",
       "      <th>TAX</th>\n",
       "      <th>PTRATIO</th>\n",
       "      <th>B</th>\n",
       "      <th>LSTAT</th>\n",
       "      <th>PRICE</th>\n",
       "    </tr>\n",
       "  </thead>\n",
       "  <tbody>\n",
       "    <tr>\n",
       "      <th>0</th>\n",
       "      <td>0.00632</td>\n",
       "      <td>18.0</td>\n",
       "      <td>2.31</td>\n",
       "      <td>0</td>\n",
       "      <td>0.538</td>\n",
       "      <td>6.575</td>\n",
       "      <td>65.2</td>\n",
       "      <td>4.0900</td>\n",
       "      <td>1</td>\n",
       "      <td>296</td>\n",
       "      <td>15.3</td>\n",
       "      <td>396.90</td>\n",
       "      <td>4.98</td>\n",
       "      <td>24.0</td>\n",
       "    </tr>\n",
       "    <tr>\n",
       "      <th>1</th>\n",
       "      <td>0.02731</td>\n",
       "      <td>0.0</td>\n",
       "      <td>7.07</td>\n",
       "      <td>0</td>\n",
       "      <td>0.469</td>\n",
       "      <td>6.421</td>\n",
       "      <td>78.9</td>\n",
       "      <td>4.9671</td>\n",
       "      <td>2</td>\n",
       "      <td>242</td>\n",
       "      <td>17.8</td>\n",
       "      <td>396.90</td>\n",
       "      <td>9.14</td>\n",
       "      <td>21.6</td>\n",
       "    </tr>\n",
       "    <tr>\n",
       "      <th>2</th>\n",
       "      <td>0.02729</td>\n",
       "      <td>0.0</td>\n",
       "      <td>7.07</td>\n",
       "      <td>0</td>\n",
       "      <td>0.469</td>\n",
       "      <td>7.185</td>\n",
       "      <td>61.1</td>\n",
       "      <td>4.9671</td>\n",
       "      <td>2</td>\n",
       "      <td>242</td>\n",
       "      <td>17.8</td>\n",
       "      <td>392.83</td>\n",
       "      <td>4.03</td>\n",
       "      <td>34.7</td>\n",
       "    </tr>\n",
       "    <tr>\n",
       "      <th>3</th>\n",
       "      <td>0.03237</td>\n",
       "      <td>0.0</td>\n",
       "      <td>2.18</td>\n",
       "      <td>0</td>\n",
       "      <td>0.458</td>\n",
       "      <td>6.998</td>\n",
       "      <td>45.8</td>\n",
       "      <td>6.0622</td>\n",
       "      <td>3</td>\n",
       "      <td>222</td>\n",
       "      <td>18.7</td>\n",
       "      <td>394.63</td>\n",
       "      <td>2.94</td>\n",
       "      <td>33.4</td>\n",
       "    </tr>\n",
       "    <tr>\n",
       "      <th>4</th>\n",
       "      <td>0.06905</td>\n",
       "      <td>0.0</td>\n",
       "      <td>2.18</td>\n",
       "      <td>0</td>\n",
       "      <td>0.458</td>\n",
       "      <td>7.147</td>\n",
       "      <td>54.2</td>\n",
       "      <td>6.0622</td>\n",
       "      <td>3</td>\n",
       "      <td>222</td>\n",
       "      <td>18.7</td>\n",
       "      <td>396.90</td>\n",
       "      <td>5.33</td>\n",
       "      <td>36.2</td>\n",
       "    </tr>\n",
       "  </tbody>\n",
       "</table>\n",
       "</div>"
      ],
      "text/plain": [
       "      CRIM    ZN  INDUS  CHAS    NOX     RM   AGE     DIS  RAD  TAX  PTRATIO  \\\n",
       "0  0.00632  18.0   2.31     0  0.538  6.575  65.2  4.0900    1  296     15.3   \n",
       "1  0.02731   0.0   7.07     0  0.469  6.421  78.9  4.9671    2  242     17.8   \n",
       "2  0.02729   0.0   7.07     0  0.469  7.185  61.1  4.9671    2  242     17.8   \n",
       "3  0.03237   0.0   2.18     0  0.458  6.998  45.8  6.0622    3  222     18.7   \n",
       "4  0.06905   0.0   2.18     0  0.458  7.147  54.2  6.0622    3  222     18.7   \n",
       "\n",
       "        B  LSTAT  PRICE  \n",
       "0  396.90   4.98   24.0  \n",
       "1  396.90   9.14   21.6  \n",
       "2  392.83   4.03   34.7  \n",
       "3  394.63   2.94   33.4  \n",
       "4  396.90   5.33   36.2  "
      ]
     },
     "execution_count": 90,
     "metadata": {},
     "output_type": "execute_result"
    }
   ],
   "source": [
    "df_csv.head()"
   ]
  },
  {
   "cell_type": "code",
   "execution_count": 91,
   "id": "e7cd7ca4",
   "metadata": {},
   "outputs": [
    {
     "data": {
      "text/plain": [
       "<AxesSubplot:xlabel='TAX', ylabel='Count'>"
      ]
     },
     "execution_count": 91,
     "metadata": {},
     "output_type": "execute_result"
    },
    {
     "data": {
      "image/png": "[encoded data removed]",
      "text/plain": [
       "<Figure size 432x288 with 1 Axes>"
      ]
     },
     "metadata": {},
     "output_type": "display_data"
    }
   ],
   "source": [
    "# Histogram\n",
    "\n",
    "sns.set(style=\"darkgrid\")\n",
    "sns.histplot(data=df_csv, x=\"TAX\")"
   ]
  },
  {
   "cell_type": "code",
   "execution_count": 92,
   "id": "d18ce3d5",
   "metadata": {},
   "outputs": [
    {
     "data": {
      "text/plain": [
       "<AxesSubplot:xlabel='AGE', ylabel='TAX'>"
      ]
     },
     "execution_count": 92,
     "metadata": {},
     "output_type": "execute_result"
    },
    {
     "data": {
      "image/png": "[encoded data removed]",
      "text/plain": [
       "<Figure size 432x288 with 1 Axes>"
      ]
     },
     "metadata": {},
     "output_type": "display_data"
    }
   ],
   "source": [
    "# Scatter plot\n",
    "sns.set(style='darkgrid')\n",
    "sns.scatterplot(x=\"AGE\",y=\"TAX\",hue=\"RAD\",data=df_csv)"
   ]
  },
  {
   "cell_type": "code",
   "execution_count": 103,
   "id": "5a431361",
   "metadata": {},
   "outputs": [
    {
     "data": {
      "text/plain": [
       "[<matplotlib.lines.Line2D at 0x7fc2cc851100>]"
      ]
     },
     "execution_count": 103,
     "metadata": {},
     "output_type": "execute_result"
    },
    {
     "data": {
      "image/png": "[encoded data removed]",
      "text/plain": [
       "<Figure size 432x288 with 1 Axes>"
      ]
     },
     "metadata": {},
     "output_type": "display_data"
    }
   ],
   "source": [
    "#Bar Chart\n",
    "plt.plot(df_csv[\"RAD\"], df_csv[\"TAX\"])"
   ]
  },
  {
   "cell_type": "code",
   "execution_count": null,
   "id": "0ffb0053",
   "metadata": {},
   "outputs": [],
   "source": []
  },
  {
   "cell_type": "code",
   "execution_count": null,
   "id": "0181dd53",
   "metadata": {},
   "outputs": [],
   "source": []
  },
  {
   "cell_type": "code",
   "execution_count": null,
   "id": "9927ee6b",
   "metadata": {},
   "outputs": [],
   "source": []
  }
 ],
 "metadata": {
  "kernelspec": {
   "display_name": "Python 3 (ipykernel)",
   "language": "python",
   "name": "python3"
  },
  "language_info": {
   "codemirror_mode": {
    "name": "ipython",
    "version": 3
   },
   "file_extension": ".py",
   "mimetype": "text/x-python",
   "name": "python",
   "nbconvert_exporter": "python",
   "pygments_lexer": "ipython3",
   "version": "3.9.12"
  }
 },
 "nbformat": 4,
 "nbformat_minor": 5
}
